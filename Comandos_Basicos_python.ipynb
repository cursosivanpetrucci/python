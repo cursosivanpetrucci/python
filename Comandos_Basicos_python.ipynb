{
  "nbformat": 4,
  "nbformat_minor": 0,
  "metadata": {
    "colab": {
      "name": "Comandos Basicos - python.ipynb",
      "provenance": [],
      "authorship_tag": "ABX9TyNno4C6MkjSEDU9yZgD3MrN",
      "include_colab_link": true
    },
    "kernelspec": {
      "name": "python3",
      "display_name": "Python 3"
    }
  },
  "cells": [
    {
      "cell_type": "markdown",
      "metadata": {
        "id": "view-in-github",
        "colab_type": "text"
      },
      "source": [
        "<a href=\"https://colab.research.google.com/github/cursosivanpetrucci/python/blob/main/Comandos_Basicos_python.ipynb\" target=\"_parent\"><img src=\"https://colab.research.google.com/assets/colab-badge.svg\" alt=\"Open In Colab\"/></a>"
      ]
    },
    {
      "cell_type": "code",
      "metadata": {
        "colab": {
          "base_uri": "https://localhost:8080/"
        },
        "id": "iXyInx30f0xU",
        "outputId": "21d42a51-ff12-4398-9403-2e7825fe5ce6"
      },
      "source": [
        "# Variaveis\r\n",
        "\r\n",
        "nome = \"Ivan\"\r\n",
        "idade = 0\r\n",
        "idade = input(idade) # Pede valor pelo prompt\r\n",
        "print(\"Nome... \", nome, \" e idade..: \" , idade )   # imprime variavel ou string"
      ],
      "execution_count": null,
      "outputs": [
        {
          "output_type": "stream",
          "text": [
            "12\n",
            "Nome...  Ivan  e idade..:  12\n"
          ],
          "name": "stdout"
        }
      ]
    },
    {
      "cell_type": "code",
      "metadata": {
        "colab": {
          "base_uri": "https://localhost:8080/"
        },
        "id": "APyyUYrOE2-T",
        "outputId": "011c1030-1063-4abe-c545-e2dca03396a8"
      },
      "source": [
        "#Definindo uma função que imprime\r\n",
        "def helloWorld():\r\n",
        "  name = 'Aceleração Gloval #4 - Everis' #Atribuindo valor\r\n",
        "  print( name )\r\n",
        "\r\n",
        "helloWorld() #Chamando função"
      ],
      "execution_count": null,
      "outputs": [
        {
          "output_type": "stream",
          "text": [
            "Aceleração Gloval #4 - Everis\n"
          ],
          "name": "stdout"
        }
      ]
    }
  ]
}