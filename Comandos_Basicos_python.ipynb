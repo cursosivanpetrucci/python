{
  "nbformat": 4,
  "nbformat_minor": 0,
  "metadata": {
    "colab": {
      "name": "Comandos Basicos - python.ipynb",
      "provenance": [],
      "authorship_tag": "ABX9TyN/xNZF6KnKtYAHKtQBcdU6",
      "include_colab_link": true
    },
    "kernelspec": {
      "name": "python3",
      "display_name": "Python 3"
    }
  },
  "cells": [
    {
      "cell_type": "markdown",
      "metadata": {
        "id": "view-in-github",
        "colab_type": "text"
      },
      "source": [
        "<a href=\"https://colab.research.google.com/github/cursosivanpetrucci/python/blob/main/Comandos_Basicos_python.ipynb\" target=\"_parent\"><img src=\"https://colab.research.google.com/assets/colab-badge.svg\" alt=\"Open In Colab\"/></a>"
      ]
    },
    {
      "cell_type": "code",
      "metadata": {
        "colab": {
          "base_uri": "https://localhost:8080/"
        },
        "id": "APyyUYrOE2-T",
        "outputId": "011c1030-1063-4abe-c545-e2dca03396a8"
      },
      "source": [
        "#Definindo uma função que imprime\r\n",
        "def helloWorld():\r\n",
        "  name = 'Aceleração Gloval #4 - Everis' #Atribuindo valor\r\n",
        "  print( name )\r\n",
        "\r\n",
        "helloWorld() #Chamando função"
      ],
      "execution_count": 1,
      "outputs": [
        {
          "output_type": "stream",
          "text": [
            "Aceleração Gloval #4 - Everis\n"
          ],
          "name": "stdout"
        }
      ]
    }
  ]
}